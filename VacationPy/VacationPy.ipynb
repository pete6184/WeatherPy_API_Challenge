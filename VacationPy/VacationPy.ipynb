{
 "cells": [
  {
   "cell_type": "markdown",
   "metadata": {},
   "source": [
    "# VacationPy"
   ]
  },
  {
   "cell_type": "code",
   "execution_count": 1,
   "metadata": {},
   "outputs": [],
   "source": [
    "# Dependencies and Setup\n",
    "import matplotlib.pyplot as plt\n",
    "import pandas as pd\n",
    "import numpy as np\n",
    "import requests\n",
    "import gmaps\n",
    "import os\n",
    "\n",
    "# Import API key\n",
    "from config import g_key"
   ]
  },
  {
   "cell_type": "markdown",
   "metadata": {},
   "source": [
    "### Store Part I results into DataFrame\n",
    "* Load the csv exported in Part I to a DataFrame"
   ]
  },
  {
   "cell_type": "code",
   "execution_count": 16,
   "metadata": {},
   "outputs": [
    {
     "data": {
      "text/html": [
       "<div>\n",
       "<style scoped>\n",
       "    .dataframe tbody tr th:only-of-type {\n",
       "        vertical-align: middle;\n",
       "    }\n",
       "\n",
       "    .dataframe tbody tr th {\n",
       "        vertical-align: top;\n",
       "    }\n",
       "\n",
       "    .dataframe thead th {\n",
       "        text-align: right;\n",
       "    }\n",
       "</style>\n",
       "<table border=\"1\" class=\"dataframe\">\n",
       "  <thead>\n",
       "    <tr style=\"text-align: right;\">\n",
       "      <th></th>\n",
       "      <th>City</th>\n",
       "      <th>Lat</th>\n",
       "      <th>Lng</th>\n",
       "      <th>Max Temp</th>\n",
       "      <th>Humidity</th>\n",
       "      <th>Cloudiness</th>\n",
       "      <th>Wind Speed</th>\n",
       "      <th>Country</th>\n",
       "      <th>Date</th>\n",
       "    </tr>\n",
       "  </thead>\n",
       "  <tbody>\n",
       "    <tr>\n",
       "      <th>0</th>\n",
       "      <td>Montes Altos</td>\n",
       "      <td>-5.8333</td>\n",
       "      <td>-47.0667</td>\n",
       "      <td>73.13</td>\n",
       "      <td>92</td>\n",
       "      <td>5</td>\n",
       "      <td>4.81</td>\n",
       "      <td>BR</td>\n",
       "      <td>1612226899</td>\n",
       "    </tr>\n",
       "    <tr>\n",
       "      <th>1</th>\n",
       "      <td>Bathsheba</td>\n",
       "      <td>13.2167</td>\n",
       "      <td>-59.5167</td>\n",
       "      <td>78.80</td>\n",
       "      <td>61</td>\n",
       "      <td>20</td>\n",
       "      <td>20.71</td>\n",
       "      <td>BB</td>\n",
       "      <td>1612226899</td>\n",
       "    </tr>\n",
       "    <tr>\n",
       "      <th>2</th>\n",
       "      <td>Rikitea</td>\n",
       "      <td>-23.1203</td>\n",
       "      <td>-134.9692</td>\n",
       "      <td>78.80</td>\n",
       "      <td>75</td>\n",
       "      <td>91</td>\n",
       "      <td>14.07</td>\n",
       "      <td>PF</td>\n",
       "      <td>1612226899</td>\n",
       "    </tr>\n",
       "    <tr>\n",
       "      <th>3</th>\n",
       "      <td>Moerai</td>\n",
       "      <td>-22.4333</td>\n",
       "      <td>-151.3333</td>\n",
       "      <td>80.33</td>\n",
       "      <td>65</td>\n",
       "      <td>20</td>\n",
       "      <td>7.76</td>\n",
       "      <td>PF</td>\n",
       "      <td>1612226899</td>\n",
       "    </tr>\n",
       "    <tr>\n",
       "      <th>4</th>\n",
       "      <td>Torbay</td>\n",
       "      <td>47.6666</td>\n",
       "      <td>-52.7314</td>\n",
       "      <td>28.99</td>\n",
       "      <td>80</td>\n",
       "      <td>90</td>\n",
       "      <td>13.80</td>\n",
       "      <td>CA</td>\n",
       "      <td>1612226900</td>\n",
       "    </tr>\n",
       "    <tr>\n",
       "      <th>...</th>\n",
       "      <td>...</td>\n",
       "      <td>...</td>\n",
       "      <td>...</td>\n",
       "      <td>...</td>\n",
       "      <td>...</td>\n",
       "      <td>...</td>\n",
       "      <td>...</td>\n",
       "      <td>...</td>\n",
       "      <td>...</td>\n",
       "    </tr>\n",
       "    <tr>\n",
       "      <th>550</th>\n",
       "      <td>Severo-Yeniseyskiy</td>\n",
       "      <td>60.3725</td>\n",
       "      <td>93.0408</td>\n",
       "      <td>-18.36</td>\n",
       "      <td>84</td>\n",
       "      <td>99</td>\n",
       "      <td>2.17</td>\n",
       "      <td>RU</td>\n",
       "      <td>1612227034</td>\n",
       "    </tr>\n",
       "    <tr>\n",
       "      <th>551</th>\n",
       "      <td>Havre-St-Pierre</td>\n",
       "      <td>50.2334</td>\n",
       "      <td>-63.5986</td>\n",
       "      <td>6.80</td>\n",
       "      <td>85</td>\n",
       "      <td>1</td>\n",
       "      <td>2.30</td>\n",
       "      <td>CA</td>\n",
       "      <td>1612227034</td>\n",
       "    </tr>\n",
       "    <tr>\n",
       "      <th>552</th>\n",
       "      <td>West Bay</td>\n",
       "      <td>19.3667</td>\n",
       "      <td>-81.4167</td>\n",
       "      <td>79.00</td>\n",
       "      <td>73</td>\n",
       "      <td>20</td>\n",
       "      <td>5.75</td>\n",
       "      <td>KY</td>\n",
       "      <td>1612227034</td>\n",
       "    </tr>\n",
       "    <tr>\n",
       "      <th>553</th>\n",
       "      <td>Nova Floresta</td>\n",
       "      <td>-6.4553</td>\n",
       "      <td>-36.2033</td>\n",
       "      <td>69.73</td>\n",
       "      <td>85</td>\n",
       "      <td>94</td>\n",
       "      <td>14.09</td>\n",
       "      <td>BR</td>\n",
       "      <td>1612227035</td>\n",
       "    </tr>\n",
       "    <tr>\n",
       "      <th>554</th>\n",
       "      <td>Penzance</td>\n",
       "      <td>50.1186</td>\n",
       "      <td>-5.5371</td>\n",
       "      <td>51.80</td>\n",
       "      <td>100</td>\n",
       "      <td>90</td>\n",
       "      <td>20.71</td>\n",
       "      <td>GB</td>\n",
       "      <td>1612227035</td>\n",
       "    </tr>\n",
       "  </tbody>\n",
       "</table>\n",
       "<p>555 rows × 9 columns</p>\n",
       "</div>"
      ],
      "text/plain": [
       "                   City      Lat       Lng  Max Temp  Humidity  Cloudiness  \\\n",
       "0          Montes Altos  -5.8333  -47.0667     73.13        92           5   \n",
       "1             Bathsheba  13.2167  -59.5167     78.80        61          20   \n",
       "2               Rikitea -23.1203 -134.9692     78.80        75          91   \n",
       "3                Moerai -22.4333 -151.3333     80.33        65          20   \n",
       "4                Torbay  47.6666  -52.7314     28.99        80          90   \n",
       "..                  ...      ...       ...       ...       ...         ...   \n",
       "550  Severo-Yeniseyskiy  60.3725   93.0408    -18.36        84          99   \n",
       "551     Havre-St-Pierre  50.2334  -63.5986      6.80        85           1   \n",
       "552            West Bay  19.3667  -81.4167     79.00        73          20   \n",
       "553       Nova Floresta  -6.4553  -36.2033     69.73        85          94   \n",
       "554            Penzance  50.1186   -5.5371     51.80       100          90   \n",
       "\n",
       "     Wind Speed Country        Date  \n",
       "0          4.81      BR  1612226899  \n",
       "1         20.71      BB  1612226899  \n",
       "2         14.07      PF  1612226899  \n",
       "3          7.76      PF  1612226899  \n",
       "4         13.80      CA  1612226900  \n",
       "..          ...     ...         ...  \n",
       "550        2.17      RU  1612227034  \n",
       "551        2.30      CA  1612227034  \n",
       "552        5.75      KY  1612227034  \n",
       "553       14.09      BR  1612227035  \n",
       "554       20.71      GB  1612227035  \n",
       "\n",
       "[555 rows x 9 columns]"
      ]
     },
     "execution_count": 16,
     "metadata": {},
     "output_type": "execute_result"
    }
   ],
   "source": [
    "cities_df = pd.read_csv(\"../output_data/cities.csv\")\n",
    "cities_df"
   ]
  },
  {
   "cell_type": "markdown",
   "metadata": {},
   "source": [
    "### Humidity Heatmap\n",
    "* Configure gmaps.\n",
    "* Use the Lat and Lng as locations and Humidity as the weight.\n",
    "* Add Heatmap layer to map."
   ]
  },
  {
   "cell_type": "code",
   "execution_count": 18,
   "metadata": {},
   "outputs": [
    {
     "data": {
      "application/vnd.jupyter.widget-view+json": {
       "model_id": "22de029601ed4ae59e7824ee9cc35149",
       "version_major": 2,
       "version_minor": 0
      },
      "text/plain": [
       "Figure(layout=FigureLayout(height='420px'))"
      ]
     },
     "metadata": {},
     "output_type": "display_data"
    }
   ],
   "source": [
    "# configure gmaps with API key\n",
    "gmaps.configure(api_key=g_key)\n",
    "\n",
    "# setting locations and weight\n",
    "cities_df = cities_df.dropna()\n",
    "\n",
    "locations = cities_df[[\"Lat\", \"Lng\"]].astype(float)\n",
    "humidity = cities_df[\"Humidity\"].astype(float)\n",
    "\n",
    "# Create a heatmap layer\n",
    "fig = gmaps.figure()\n",
    "\n",
    "heat_layer = gmaps.heatmap_layer(locations, weights=humidity)\n",
    "    \n",
    "fig.add_layer(heat_layer)\n",
    "fig"
   ]
  },
  {
   "cell_type": "code",
   "execution_count": null,
   "metadata": {},
   "outputs": [],
   "source": []
  },
  {
   "cell_type": "markdown",
   "metadata": {},
   "source": [
    "### Create new DataFrame fitting weather criteria\n",
    "* Narrow down the cities to fit weather conditions.\n",
    "* Drop any rows will null values."
   ]
  },
  {
   "cell_type": "code",
   "execution_count": null,
   "metadata": {},
   "outputs": [],
   "source": []
  },
  {
   "cell_type": "markdown",
   "metadata": {},
   "source": [
    "### Hotel Map\n",
    "* Store into variable named `hotel_df`.\n",
    "* Add a \"Hotel Name\" column to the DataFrame.\n",
    "* Set parameters to search for hotels with 5000 meters.\n",
    "* Hit the Google Places API for each city's coordinates.\n",
    "* Store the first Hotel result into the DataFrame.\n",
    "* Plot markers on top of the heatmap."
   ]
  },
  {
   "cell_type": "code",
   "execution_count": null,
   "metadata": {},
   "outputs": [],
   "source": []
  },
  {
   "cell_type": "code",
   "execution_count": null,
   "metadata": {},
   "outputs": [],
   "source": []
  },
  {
   "cell_type": "code",
   "execution_count": null,
   "metadata": {},
   "outputs": [],
   "source": [
    "# NOTE: Do not change any of the code in this cell\n",
    "\n",
    "# Using the template add the hotel marks to the heatmap\n",
    "info_box_template = \"\"\"\n",
    "<dl>\n",
    "<dt>Name</dt><dd>{Hotel Name}</dd>\n",
    "<dt>City</dt><dd>{City}</dd>\n",
    "<dt>Country</dt><dd>{Country}</dd>\n",
    "</dl>\n",
    "\"\"\"\n",
    "# Store the DataFrame Row\n",
    "# NOTE: be sure to update with your DataFrame name\n",
    "hotel_info = [info_box_template.format(**row) for index, row in hotel_df.iterrows()]\n",
    "locations = hotel_df[[\"Lat\", \"Lng\"]]"
   ]
  },
  {
   "cell_type": "code",
   "execution_count": null,
   "metadata": {},
   "outputs": [],
   "source": [
    "# Add marker layer ontop of heat map\n",
    "\n",
    "\n",
    "# Display figure\n"
   ]
  },
  {
   "cell_type": "code",
   "execution_count": null,
   "metadata": {},
   "outputs": [],
   "source": []
  }
 ],
 "metadata": {
  "kernelspec": {
   "display_name": "Python 3",
   "language": "python",
   "name": "python3"
  },
  "language_info": {
   "codemirror_mode": {
    "name": "ipython",
    "version": 3
   },
   "file_extension": ".py",
   "mimetype": "text/x-python",
   "name": "python",
   "nbconvert_exporter": "python",
   "pygments_lexer": "ipython3",
   "version": "3.6.10"
  },
  "latex_envs": {
   "LaTeX_envs_menu_present": true,
   "autoclose": false,
   "autocomplete": true,
   "bibliofile": "biblio.bib",
   "cite_by": "apalike",
   "current_citInitial": 1,
   "eqLabelWithNumbers": true,
   "eqNumInitial": 1,
   "hotkeys": {
    "equation": "Ctrl-E",
    "itemize": "Ctrl-I"
   },
   "labels_anchors": false,
   "latex_user_defs": false,
   "report_style_numbering": false,
   "user_envs_cfg": false
  }
 },
 "nbformat": 4,
 "nbformat_minor": 4
}
