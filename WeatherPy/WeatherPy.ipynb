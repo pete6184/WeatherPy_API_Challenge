{
 "cells": [
  {
   "cell_type": "markdown",
   "metadata": {},
   "source": [
    "# WeatherPy"
   ]
  },
  {
   "cell_type": "code",
   "execution_count": 16,
   "metadata": {
    "scrolled": true
   },
   "outputs": [],
   "source": [
    "# Dependencies and Setup\n",
    "import matplotlib.pyplot as plt\n",
    "import pandas as pd\n",
    "import numpy as np\n",
    "import requests\n",
    "import time\n",
    "from scipy.stats import linregress\n",
    "\n",
    "# Import API key\n",
    "from config import weather_api_key\n",
    "\n",
    "# Incorporated citipy to determine city based on latitude and longitude\n",
    "from citipy import citipy\n",
    "\n",
    "# Output File (CSV)\n",
    "output_data_file = \"output_data/cities.csv\"\n",
    "\n",
    "# Range of latitudes and longitudes\n",
    "lat_range = (-90, 90)\n",
    "lng_range = (-180, 180)"
   ]
  },
  {
   "cell_type": "markdown",
   "metadata": {},
   "source": [
    "## Generate Cities List"
   ]
  },
  {
   "cell_type": "code",
   "execution_count": 17,
   "metadata": {},
   "outputs": [
    {
     "data": {
      "text/plain": [
       "619"
      ]
     },
     "execution_count": 17,
     "metadata": {},
     "output_type": "execute_result"
    }
   ],
   "source": [
    "# List for holding lat_lngs and cities\n",
    "lat_lngs = []\n",
    "cities = []\n",
    "\n",
    "# Create a set of random lat and lng combinations\n",
    "lats = np.random.uniform(lat_range[0], lat_range[1], size=1500)\n",
    "lngs = np.random.uniform(lng_range[0], lng_range[1], size=1500)\n",
    "lat_lngs = zip(lats, lngs)\n",
    "\n",
    "# Identify nearest city for each lat, lng combination\n",
    "for lat_lng in lat_lngs:\n",
    "    city = citipy.nearest_city(lat_lng[0], lat_lng[1]).city_name\n",
    "    \n",
    "    # If the city is unique, then add it to a our cities list\n",
    "    if city not in cities:\n",
    "        cities.append(city)\n",
    "\n",
    "# Print the city count to confirm sufficient count\n",
    "len(cities)"
   ]
  },
  {
   "cell_type": "markdown",
   "metadata": {},
   "source": [
    "### Perform API Calls\n",
    "* Perform a weather check on each city using a series of successive API calls.\n",
    "* Include a print log of each city as it's being processed (with the city number and city name).\n"
   ]
  },
  {
   "cell_type": "code",
   "execution_count": 18,
   "metadata": {},
   "outputs": [
    {
     "name": "stdout",
     "output_type": "stream",
     "text": [
      "Beginning Data Retrieval\n",
      "-----------------------------\n",
      "Processing Record 1 of Set 1: kodiak\n",
      "Processing Record 2 of Set 1: ushuaia\n",
      "Processing Record 3 of Set 1: san juan\n",
      "Processing Record 4 of Set 1: hengshui\n",
      "Processing Record 5 of Set 1: bredasdorp\n",
      "Processing Record 6 of Set 1: dikson\n",
      "Processing Record 7 of Set 1: ixtapa\n",
      "Processing Record 8 of Set 1: juneau\n",
      "Processing Record 9 of Set 1: santa barbara\n",
      "Processing Record 10 of Set 1: ust-tsilma\n",
      "Processing Record 11 of Set 1: labrea\n",
      "Processing Record 12 of Set 1: thompson\n",
      "Processing Record 13 of Set 1: lazaro cardenas\n",
      "Processing Record 14 of Set 1: tasiilaq\n",
      "Processing Record 15 of Set 1: jacareacanga\n",
      "Processing Record 16 of Set 1: bathsheba\n",
      "Processing Record 17 of Set 1: beloha\n",
      "Processing Record 18 of Set 1: norman wells\n",
      "Processing Record 19 of Set 1: rikitea\n",
      "Processing Record 20 of Set 1: tuktoyaktuk\n",
      "Processing Record 21 of Set 1: atuona\n",
      "Processing Record 22 of Set 1: port alfred\n",
      "Processing Record 23 of Set 1: busselton\n",
      "Processing Record 24 of Set 1: arraial do cabo\n",
      "Processing Record 25 of Set 1: hobart\n",
      "Processing Record 26 of Set 1: ginda\n",
      "Processing Record 27 of Set 1: saint-francois\n",
      "Processing Record 28 of Set 1: mataura\n",
      "Processing Record 29 of Set 1: jinji\n",
      "Processing Record 30 of Set 1: hermanus\n",
      "Processing Record 31 of Set 1: west bay\n",
      "Processing Record 32 of Set 1: sainte-marie\n",
      "Processing Record 33 of Set 1: butaritari\n",
      "Processing Record 34 of Set 1: lata\n",
      "Processing Record 35 of Set 1: port hedland\n",
      "Processing Record 36 of Set 1: angoche\n",
      "Processing Record 37 of Set 1: chalus\n",
      "Processing Record 38 of Set 1: gizo\n",
      "Processing Record 39 of Set 1: tenenkou\n",
      "City not found. Skipping...\n",
      "City not found. Skipping...\n",
      "City not found. Skipping...\n",
      "Processing Record 40 of Set 1: araouane\n",
      "Processing Record 41 of Set 1: provideniya\n",
      "Processing Record 42 of Set 1: ternate\n",
      "Processing Record 43 of Set 1: xacmaz\n",
      "Processing Record 44 of Set 1: acapulco\n",
      "Processing Record 45 of Set 1: santiago de cao\n",
      "Processing Record 46 of Set 1: basco\n",
      "City not found. Skipping...\n",
      "Processing Record 47 of Set 1: ilulissat\n",
      "Processing Record 48 of Set 1: upernavik\n",
      "Processing Record 49 of Set 1: kavieng\n",
      "Processing Record 50 of Set 1: lorengau\n",
      "Processing Record 1 of Set 2: beringovskiy\n",
      "Processing Record 2 of Set 2: preston\n",
      "Processing Record 3 of Set 2: radzyn podlaski\n",
      "Processing Record 4 of Set 2: tsaratanana\n",
      "Processing Record 5 of Set 2: esperance\n",
      "Processing Record 6 of Set 2: srivardhan\n",
      "Processing Record 7 of Set 2: harper\n",
      "Processing Record 8 of Set 2: bambous virieux\n",
      "Processing Record 9 of Set 2: puerto ayora\n",
      "Processing Record 10 of Set 2: lebu\n",
      "Processing Record 11 of Set 2: karpathos\n",
      "Processing Record 12 of Set 2: lavrentiya\n",
      "Processing Record 13 of Set 2: carnarvon\n",
      "Processing Record 14 of Set 2: vangaindrano\n",
      "Processing Record 15 of Set 2: limbang\n",
      "Processing Record 16 of Set 2: avarua\n",
      "Processing Record 17 of Set 2: barrow\n",
      "Processing Record 18 of Set 2: new norfolk\n",
      "Processing Record 19 of Set 2: aloleng\n",
      "Processing Record 20 of Set 2: punta arenas\n",
      "Processing Record 21 of Set 2: khani\n",
      "Processing Record 22 of Set 2: nuuk\n",
      "Processing Record 23 of Set 2: castro\n",
      "Processing Record 24 of Set 2: morehead\n",
      "Processing Record 25 of Set 2: mar del plata\n",
      "Processing Record 26 of Set 2: chuy\n",
      "City not found. Skipping...\n",
      "Processing Record 27 of Set 2: byron bay\n",
      "Processing Record 28 of Set 2: denpasar\n",
      "Processing Record 29 of Set 2: ahipara\n",
      "Processing Record 30 of Set 2: husavik\n",
      "Processing Record 31 of Set 2: codrington\n",
      "Processing Record 32 of Set 2: brae\n",
      "City not found. Skipping...\n",
      "Processing Record 33 of Set 2: port lincoln\n",
      "City not found. Skipping...\n",
      "Processing Record 34 of Set 2: manacapuru\n",
      "Processing Record 35 of Set 2: belaya gora\n",
      "Processing Record 36 of Set 2: falmouth\n",
      "Processing Record 37 of Set 2: cidreira\n",
      "Processing Record 38 of Set 2: ellisras\n",
      "Processing Record 39 of Set 2: fortuna\n",
      "Processing Record 40 of Set 2: waitati\n",
      "Processing Record 41 of Set 2: yellowknife\n",
      "Processing Record 42 of Set 2: karangasem\n",
      "Processing Record 43 of Set 2: souillac\n",
      "Processing Record 44 of Set 2: yumen\n",
      "Processing Record 45 of Set 2: ponta do sol\n",
      "City not found. Skipping...\n",
      "Processing Record 46 of Set 2: mayor pablo lagerenza\n",
      "Processing Record 47 of Set 2: omboue\n",
      "Processing Record 48 of Set 2: kaitangata\n",
      "City not found. Skipping...\n",
      "Processing Record 49 of Set 2: kapaa\n",
      "Processing Record 50 of Set 2: soubre\n",
      "City not found. Skipping...\n",
      "Processing Record 1 of Set 3: khorramshahr\n",
      "Processing Record 2 of Set 3: jamestown\n",
      "Processing Record 3 of Set 3: enid\n",
      "Processing Record 4 of Set 3: dingle\n",
      "City not found. Skipping...\n",
      "Processing Record 5 of Set 3: cap malheureux\n",
      "Processing Record 6 of Set 3: kruisfontein\n",
      "Processing Record 7 of Set 3: luderitz\n",
      "Processing Record 8 of Set 3: evensk\n",
      "Processing Record 9 of Set 3: albany\n",
      "Processing Record 10 of Set 3: plouzane\n",
      "Processing Record 11 of Set 3: isangel\n",
      "Processing Record 12 of Set 3: pokrovsk\n",
      "Processing Record 13 of Set 3: ruyigi\n",
      "Processing Record 14 of Set 3: gazli\n",
      "Processing Record 15 of Set 3: belmonte\n",
      "Processing Record 16 of Set 3: anadyr\n",
      "Processing Record 17 of Set 3: srednekolymsk\n",
      "Processing Record 18 of Set 3: kabalo\n",
      "Processing Record 19 of Set 3: qaanaaq\n",
      "Processing Record 20 of Set 3: baker city\n",
      "Processing Record 21 of Set 3: saint anthony\n",
      "Processing Record 22 of Set 3: severnoye\n",
      "Processing Record 23 of Set 3: umm lajj\n",
      "Processing Record 24 of Set 3: namibe\n",
      "Processing Record 25 of Set 3: marawi\n",
      "Processing Record 26 of Set 3: belle fourche\n",
      "Processing Record 27 of Set 3: zlitan\n",
      "Processing Record 28 of Set 3: bakaly\n",
      "Processing Record 29 of Set 3: tuatapere\n",
      "Processing Record 30 of Set 3: tigil\n",
      "Processing Record 31 of Set 3: vaini\n",
      "Processing Record 32 of Set 3: khatanga\n",
      "Processing Record 33 of Set 3: semirom\n",
      "Processing Record 34 of Set 3: xining\n",
      "Processing Record 35 of Set 3: oni\n",
      "Processing Record 36 of Set 3: coihaique\n",
      "Processing Record 37 of Set 3: nikolskoye\n",
      "Processing Record 38 of Set 3: sangar\n",
      "Processing Record 39 of Set 3: caravelas\n",
      "Processing Record 40 of Set 3: vaitape\n",
      "Processing Record 41 of Set 3: adrar\n",
      "Processing Record 42 of Set 3: yerbogachen\n",
      "City not found. Skipping...\n",
      "Processing Record 43 of Set 3: eureka\n",
      "Processing Record 44 of Set 3: hearst\n",
      "Processing Record 45 of Set 3: thinadhoo\n",
      "Processing Record 46 of Set 3: champasak\n",
      "Processing Record 47 of Set 3: kaputa\n",
      "Processing Record 48 of Set 3: teguldet\n",
      "Processing Record 49 of Set 3: ambam\n",
      "Processing Record 50 of Set 3: hasaki\n",
      "Processing Record 1 of Set 4: sibay\n",
      "Processing Record 2 of Set 4: jalu\n",
      "Processing Record 3 of Set 4: saskylakh\n",
      "Processing Record 4 of Set 4: bad munstereifel\n",
      "Processing Record 5 of Set 4: paso de los toros\n",
      "Processing Record 6 of Set 4: constitucion\n",
      "Processing Record 7 of Set 4: san patricio\n",
      "Processing Record 8 of Set 4: kincardine\n",
      "Processing Record 9 of Set 4: mecca\n",
      "Processing Record 10 of Set 4: tessalit\n",
      "Processing Record 11 of Set 4: tabatinga\n",
      "City not found. Skipping...\n",
      "Processing Record 12 of Set 4: verkhniy avzyan\n",
      "Processing Record 13 of Set 4: saint-philippe\n",
      "Processing Record 14 of Set 4: vao\n",
      "Processing Record 15 of Set 4: georgetown\n",
      "Processing Record 16 of Set 4: katsuura\n",
      "Processing Record 17 of Set 4: alugan\n",
      "Processing Record 18 of Set 4: gandai\n",
      "Processing Record 19 of Set 4: neryungri\n",
      "Processing Record 20 of Set 4: asilah\n",
      "Processing Record 21 of Set 4: bluff\n",
      "Processing Record 22 of Set 4: coos bay\n",
      "Processing Record 23 of Set 4: sao lourenco\n",
      "Processing Record 24 of Set 4: tiksi\n",
      "Processing Record 25 of Set 4: east london\n",
      "Processing Record 26 of Set 4: colesberg\n",
      "Processing Record 27 of Set 4: sarkand\n",
      "Processing Record 28 of Set 4: waingapu\n",
      "Processing Record 29 of Set 4: zhigansk\n",
      "Processing Record 30 of Set 4: touros\n",
      "Processing Record 31 of Set 4: bandarbeyla\n",
      "Processing Record 32 of Set 4: victoria\n",
      "Processing Record 33 of Set 4: jumla\n",
      "Processing Record 34 of Set 4: scalea\n",
      "Processing Record 35 of Set 4: tura\n",
      "Processing Record 36 of Set 4: dublin\n",
      "Processing Record 37 of Set 4: necochea\n",
      "Processing Record 38 of Set 4: san cristobal\n",
      "Processing Record 39 of Set 4: viedma\n",
      "Processing Record 40 of Set 4: santiago\n",
      "Processing Record 41 of Set 4: cape town\n",
      "Processing Record 42 of Set 4: payakumbuh\n",
      "Processing Record 43 of Set 4: yar-sale\n",
      "City not found. Skipping...\n"
     ]
    },
    {
     "name": "stdout",
     "output_type": "stream",
     "text": [
      "Processing Record 44 of Set 4: salekhard\n",
      "Processing Record 45 of Set 4: broken hill\n",
      "Processing Record 46 of Set 4: carahue\n",
      "Processing Record 47 of Set 4: maceio\n",
      "Processing Record 48 of Set 4: qandala\n",
      "Processing Record 49 of Set 4: anton lizardo\n",
      "Processing Record 50 of Set 4: rio grande city\n",
      "Processing Record 1 of Set 5: paamiut\n",
      "Processing Record 2 of Set 5: carballo\n",
      "Processing Record 3 of Set 5: presidencia roque saenz pena\n",
      "Processing Record 4 of Set 5: poum\n",
      "Processing Record 5 of Set 5: bubaque\n",
      "Processing Record 6 of Set 5: airai\n",
      "Processing Record 7 of Set 5: kushiro\n",
      "Processing Record 8 of Set 5: puerto madero\n",
      "Processing Record 9 of Set 5: port elizabeth\n",
      "Processing Record 10 of Set 5: cherskiy\n",
      "Processing Record 11 of Set 5: alofi\n",
      "Processing Record 12 of Set 5: pakxan\n",
      "Processing Record 13 of Set 5: palu\n",
      "Processing Record 14 of Set 5: namatanai\n",
      "Processing Record 15 of Set 5: conakry\n",
      "Processing Record 16 of Set 5: corsicana\n",
      "Processing Record 17 of Set 5: ugoofaaru\n",
      "Processing Record 18 of Set 5: riosucio\n",
      "City not found. Skipping...\n",
      "Processing Record 19 of Set 5: alice springs\n",
      "Processing Record 20 of Set 5: margate\n",
      "Processing Record 21 of Set 5: klaksvik\n",
      "Processing Record 22 of Set 5: tamandare\n",
      "Processing Record 23 of Set 5: yulara\n",
      "Processing Record 24 of Set 5: kandrian\n",
      "Processing Record 25 of Set 5: leningradskiy\n",
      "Processing Record 26 of Set 5: tilichiki\n",
      "Processing Record 27 of Set 5: el rosario\n",
      "Processing Record 28 of Set 5: miri\n",
      "Processing Record 29 of Set 5: lagoa\n",
      "Processing Record 30 of Set 5: hilo\n",
      "Processing Record 31 of Set 5: xuddur\n",
      "Processing Record 32 of Set 5: moyale\n",
      "Processing Record 33 of Set 5: muskegon\n",
      "Processing Record 34 of Set 5: santa maria\n",
      "Processing Record 35 of Set 5: goderich\n",
      "Processing Record 36 of Set 5: berlevag\n",
      "Processing Record 37 of Set 5: ypsonas\n",
      "Processing Record 38 of Set 5: mackay\n",
      "City not found. Skipping...\n",
      "Processing Record 39 of Set 5: teberda\n",
      "Processing Record 40 of Set 5: nanortalik\n",
      "Processing Record 41 of Set 5: ambon\n",
      "Processing Record 42 of Set 5: tessaoua\n",
      "Processing Record 43 of Set 5: ashland\n",
      "Processing Record 44 of Set 5: port-gentil\n",
      "Processing Record 45 of Set 5: ketchikan\n",
      "Processing Record 46 of Set 5: walvis bay\n",
      "Processing Record 47 of Set 5: locri\n",
      "Processing Record 48 of Set 5: hammerfest\n",
      "Processing Record 49 of Set 5: ucluelet\n",
      "City not found. Skipping...\n",
      "Processing Record 50 of Set 5: ribeira grande\n",
      "City not found. Skipping...\n",
      "Processing Record 1 of Set 6: askiz\n",
      "Processing Record 2 of Set 6: bend\n",
      "Processing Record 3 of Set 6: rebrikha\n",
      "Processing Record 4 of Set 6: pisco\n",
      "Processing Record 5 of Set 6: aitape\n",
      "City not found. Skipping...\n",
      "Processing Record 6 of Set 6: coahuayana\n",
      "Processing Record 7 of Set 6: talcahuano\n",
      "Processing Record 8 of Set 6: urumqi\n",
      "Processing Record 9 of Set 6: poim\n",
      "Processing Record 10 of Set 6: orlik\n",
      "Processing Record 11 of Set 6: camacha\n",
      "Processing Record 12 of Set 6: mandalgovi\n",
      "Processing Record 13 of Set 6: atar\n",
      "Processing Record 14 of Set 6: batagay-alyta\n",
      "Processing Record 15 of Set 6: kaeo\n",
      "Processing Record 16 of Set 6: sao joao da barra\n",
      "City not found. Skipping...\n",
      "Processing Record 17 of Set 6: abha\n",
      "Processing Record 18 of Set 6: paredon\n",
      "Processing Record 19 of Set 6: spokane\n",
      "Processing Record 20 of Set 6: arona\n",
      "Processing Record 21 of Set 6: maniitsoq\n",
      "City not found. Skipping...\n",
      "Processing Record 22 of Set 6: brive-la-gaillarde\n",
      "Processing Record 23 of Set 6: iqaluit\n",
      "Processing Record 24 of Set 6: kajaani\n",
      "Processing Record 25 of Set 6: general pico\n",
      "Processing Record 26 of Set 6: epiniana\n",
      "Processing Record 27 of Set 6: champerico\n",
      "Processing Record 28 of Set 6: guarapari\n",
      "Processing Record 29 of Set 6: surt\n",
      "Processing Record 30 of Set 6: kawalu\n",
      "Processing Record 31 of Set 6: narsaq\n",
      "City not found. Skipping...\n",
      "Processing Record 32 of Set 6: oranjemund\n",
      "Processing Record 33 of Set 6: torbay\n",
      "Processing Record 34 of Set 6: barra patuca\n",
      "Processing Record 35 of Set 6: barra\n",
      "Processing Record 36 of Set 6: itamarandiba\n",
      "Processing Record 37 of Set 6: verkhoyansk\n",
      "Processing Record 38 of Set 6: geraldton\n",
      "City not found. Skipping...\n",
      "Processing Record 39 of Set 6: cayenne\n",
      "Processing Record 40 of Set 6: haapiti\n",
      "Processing Record 41 of Set 6: lethem\n",
      "Processing Record 42 of Set 6: mustafakemalpasa\n",
      "Processing Record 43 of Set 6: meulaboh\n",
      "Processing Record 44 of Set 6: repatriacion\n",
      "City not found. Skipping...\n",
      "Processing Record 45 of Set 6: bayan\n",
      "City not found. Skipping...\n",
      "Processing Record 46 of Set 6: bonavista\n",
      "Processing Record 47 of Set 6: mezhdurechenskiy\n",
      "Processing Record 48 of Set 6: ledyard\n",
      "Processing Record 49 of Set 6: moscow\n",
      "Processing Record 50 of Set 6: salinopolis\n",
      "Processing Record 1 of Set 7: lewistown\n",
      "Processing Record 2 of Set 7: pipri\n",
      "Processing Record 3 of Set 7: vestmannaeyjar\n",
      "City not found. Skipping...\n",
      "Processing Record 4 of Set 7: arlit\n",
      "Processing Record 5 of Set 7: sioux lookout\n",
      "Processing Record 6 of Set 7: mahebourg\n",
      "Processing Record 7 of Set 7: shimoda\n",
      "Processing Record 8 of Set 7: trincomalee\n",
      "Processing Record 9 of Set 7: palmer\n",
      "Processing Record 10 of Set 7: ust-nera\n",
      "Processing Record 11 of Set 7: rena\n",
      "Processing Record 12 of Set 7: gravdal\n",
      "Processing Record 13 of Set 7: sanmenxia\n",
      "Processing Record 14 of Set 7: steinbach\n",
      "Processing Record 15 of Set 7: ivdel\n",
      "Processing Record 16 of Set 7: zhuhai\n",
      "Processing Record 17 of Set 7: voh\n",
      "Processing Record 18 of Set 7: batagay\n",
      "Processing Record 19 of Set 7: ancud\n",
      "Processing Record 20 of Set 7: constantine\n",
      "Processing Record 21 of Set 7: tonantins\n",
      "Processing Record 22 of Set 7: kaseda\n",
      "Processing Record 23 of Set 7: luanda\n",
      "Processing Record 24 of Set 7: tome\n",
      "Processing Record 25 of Set 7: high prairie\n",
      "Processing Record 26 of Set 7: clinton\n",
      "Processing Record 27 of Set 7: issia\n",
      "Processing Record 28 of Set 7: neuquen\n",
      "Processing Record 29 of Set 7: imbituba\n",
      "Processing Record 30 of Set 7: saint-joseph\n",
      "Processing Record 31 of Set 7: porto novo\n",
      "Processing Record 32 of Set 7: cotonou\n",
      "Processing Record 33 of Set 7: mayo\n",
      "Processing Record 34 of Set 7: port hardy\n",
      "Processing Record 35 of Set 7: nouadhibou\n",
      "Processing Record 36 of Set 7: talara\n",
      "Processing Record 37 of Set 7: hithadhoo\n",
      "Processing Record 38 of Set 7: bethel\n",
      "Processing Record 39 of Set 7: avera\n",
      "Processing Record 40 of Set 7: billings\n",
      "Processing Record 41 of Set 7: kalabo\n",
      "City not found. Skipping...\n",
      "Processing Record 42 of Set 7: khandyga\n",
      "Processing Record 43 of Set 7: lumeje\n",
      "Processing Record 44 of Set 7: kangaatsiaq\n",
      "Processing Record 45 of Set 7: kahului\n",
      "Processing Record 46 of Set 7: burnie\n",
      "Processing Record 47 of Set 7: buenos aires\n",
      "Processing Record 48 of Set 7: cairns\n",
      "Processing Record 49 of Set 7: pacific grove\n",
      "Processing Record 50 of Set 7: mapiripan\n",
      "Processing Record 1 of Set 8: pontianak\n",
      "Processing Record 2 of Set 8: nicoya\n",
      "City not found. Skipping...\n",
      "Processing Record 3 of Set 8: abu samrah\n",
      "City not found. Skipping...\n",
      "Processing Record 4 of Set 8: hofn\n",
      "Processing Record 5 of Set 8: kenai\n",
      "Processing Record 6 of Set 8: colares\n",
      "Processing Record 7 of Set 8: aykhal\n",
      "Processing Record 8 of Set 8: marrakesh\n",
      "Processing Record 9 of Set 8: mabaruma\n",
      "Processing Record 10 of Set 8: aktas\n",
      "Processing Record 11 of Set 8: almaznyy\n",
      "Processing Record 12 of Set 8: paita\n",
      "Processing Record 13 of Set 8: witu\n",
      "Processing Record 14 of Set 8: neropolis\n",
      "Processing Record 15 of Set 8: anamur\n",
      "Processing Record 16 of Set 8: bengkulu\n",
      "Processing Record 17 of Set 8: cape canaveral\n",
      "Processing Record 18 of Set 8: storsteinnes\n",
      "Processing Record 19 of Set 8: muros\n",
      "Processing Record 20 of Set 8: fredericton\n",
      "City not found. Skipping...\n",
      "Processing Record 21 of Set 8: hualmay\n",
      "Processing Record 22 of Set 8: kholmogory\n",
      "Processing Record 23 of Set 8: pevek\n",
      "Processing Record 24 of Set 8: lugovoy\n",
      "Processing Record 25 of Set 8: san ramon\n",
      "Processing Record 26 of Set 8: altay\n",
      "Processing Record 27 of Set 8: cafarnaum\n",
      "Processing Record 28 of Set 8: merauke\n",
      "Processing Record 29 of Set 8: kpandu\n",
      "Processing Record 30 of Set 8: saldanha\n",
      "Processing Record 31 of Set 8: kisangani\n",
      "Processing Record 32 of Set 8: baijiantan\n",
      "Processing Record 33 of Set 8: newtownards\n",
      "Processing Record 34 of Set 8: vitim\n",
      "Processing Record 35 of Set 8: praia da vitoria\n",
      "Processing Record 36 of Set 8: henties bay\n",
      "Processing Record 37 of Set 8: westport\n"
     ]
    },
    {
     "name": "stdout",
     "output_type": "stream",
     "text": [
      "Processing Record 38 of Set 8: kalininsk\n",
      "City not found. Skipping...\n",
      "Processing Record 39 of Set 8: coquimbo\n",
      "Processing Record 40 of Set 8: ballina\n",
      "Processing Record 41 of Set 8: severo-kurilsk\n",
      "Processing Record 42 of Set 8: tocopilla\n",
      "Processing Record 43 of Set 8: lasa\n",
      "Processing Record 44 of Set 8: sumbe\n",
      "Processing Record 45 of Set 8: klyuchi\n",
      "Processing Record 46 of Set 8: grindavik\n",
      "Processing Record 47 of Set 8: clyde river\n",
      "Processing Record 48 of Set 8: manali\n",
      "Processing Record 49 of Set 8: vilhena\n",
      "Processing Record 50 of Set 8: longonjo\n",
      "Processing Record 1 of Set 9: winton\n",
      "Processing Record 2 of Set 9: luganville\n",
      "Processing Record 3 of Set 9: carutapera\n",
      "Processing Record 4 of Set 9: jesup\n",
      "Processing Record 5 of Set 9: de aar\n",
      "Processing Record 6 of Set 9: yei\n",
      "Processing Record 7 of Set 9: la ronge\n",
      "City not found. Skipping...\n",
      "Processing Record 8 of Set 9: muyezerskiy\n",
      "Processing Record 9 of Set 9: kapoeta\n",
      "Processing Record 10 of Set 9: faya\n",
      "Processing Record 11 of Set 9: itaituba\n",
      "Processing Record 12 of Set 9: faanui\n",
      "Processing Record 13 of Set 9: cabildo\n",
      "Processing Record 14 of Set 9: arauca\n",
      "Processing Record 15 of Set 9: arica\n",
      "Processing Record 16 of Set 9: launceston\n",
      "Processing Record 17 of Set 9: jiexiu\n",
      "Processing Record 18 of Set 9: sola\n",
      "Processing Record 19 of Set 9: perove\n",
      "Processing Record 20 of Set 9: kathmandu\n",
      "Processing Record 21 of Set 9: chegem\n",
      "Processing Record 22 of Set 9: barra do bugres\n",
      "Processing Record 23 of Set 9: pangnirtung\n",
      "Processing Record 24 of Set 9: ayorou\n",
      "City not found. Skipping...\n",
      "Processing Record 25 of Set 9: artyom\n",
      "Processing Record 26 of Set 9: bela\n",
      "Processing Record 27 of Set 9: new glasgow\n",
      "Processing Record 28 of Set 9: mogadouro\n",
      "Processing Record 29 of Set 9: puerto narino\n",
      "Processing Record 30 of Set 9: daru\n",
      "Processing Record 31 of Set 9: inhambane\n",
      "Processing Record 32 of Set 9: varhaug\n",
      "Processing Record 33 of Set 9: komsomolskiy\n",
      "Processing Record 34 of Set 9: general higinio morinigo\n",
      "Processing Record 35 of Set 9: dekar\n",
      "Processing Record 36 of Set 9: broome\n",
      "City not found. Skipping...\n",
      "Processing Record 37 of Set 9: bulgan\n",
      "City not found. Skipping...\n",
      "Processing Record 38 of Set 9: iskateley\n",
      "Processing Record 39 of Set 9: zarya\n",
      "City not found. Skipping...\n",
      "Processing Record 40 of Set 9: xingyi\n",
      "Processing Record 41 of Set 9: vila franca do campo\n",
      "Processing Record 42 of Set 9: ulladulla\n",
      "Processing Record 43 of Set 9: bay roberts\n",
      "Processing Record 44 of Set 9: mogadishu\n",
      "Processing Record 45 of Set 9: sao filipe\n",
      "Processing Record 46 of Set 9: tianjin\n",
      "Processing Record 47 of Set 9: longyearbyen\n",
      "Processing Record 48 of Set 9: bosaso\n",
      "Processing Record 49 of Set 9: tak\n",
      "Processing Record 50 of Set 9: bellary\n",
      "City not found. Skipping...\n",
      "Processing Record 1 of Set 10: itauna\n",
      "City not found. Skipping...\n",
      "Processing Record 2 of Set 10: poronaysk\n",
      "Processing Record 3 of Set 10: raymondville\n",
      "Processing Record 4 of Set 10: fershampenuaz\n",
      "Processing Record 5 of Set 10: wewak\n",
      "Processing Record 6 of Set 10: wasilla\n",
      "Processing Record 7 of Set 10: bonthe\n",
      "Processing Record 8 of Set 10: twin falls\n",
      "Processing Record 9 of Set 10: fremont\n",
      "Processing Record 10 of Set 10: iwanuma\n",
      "Processing Record 11 of Set 10: pacifica\n",
      "Processing Record 12 of Set 10: kiyasovo\n",
      "Processing Record 13 of Set 10: haines junction\n",
      "Processing Record 14 of Set 10: chokurdakh\n",
      "Processing Record 15 of Set 10: makakilo city\n",
      "Processing Record 16 of Set 10: anzio\n",
      "Processing Record 17 of Set 10: fort nelson\n",
      "City not found. Skipping...\n",
      "Processing Record 18 of Set 10: sisophon\n",
      "Processing Record 19 of Set 10: yelnya\n",
      "Processing Record 20 of Set 10: hay river\n",
      "Processing Record 21 of Set 10: alexandria\n",
      "Processing Record 22 of Set 10: barreirinha\n",
      "Processing Record 23 of Set 10: jackson\n",
      "Processing Record 24 of Set 10: hokitika\n",
      "Processing Record 25 of Set 10: huarmey\n",
      "Processing Record 26 of Set 10: belfort\n",
      "City not found. Skipping...\n",
      "Processing Record 27 of Set 10: talnakh\n",
      "Processing Record 28 of Set 10: brezoi\n",
      "Processing Record 29 of Set 10: nome\n",
      "Processing Record 30 of Set 10: kutum\n",
      "Processing Record 31 of Set 10: northam\n",
      "Processing Record 32 of Set 10: guaymas\n",
      "Processing Record 33 of Set 10: lompoc\n",
      "Processing Record 34 of Set 10: bijie\n",
      "Processing Record 35 of Set 10: alghero\n",
      "Processing Record 36 of Set 10: lamar\n",
      "Processing Record 37 of Set 10: makat\n",
      "Processing Record 38 of Set 10: shirokiy\n",
      "Processing Record 39 of Set 10: qianguo\n",
      "Processing Record 40 of Set 10: sao miguel do araguaia\n",
      "Processing Record 41 of Set 10: istok\n",
      "City not found. Skipping...\n",
      "Processing Record 42 of Set 10: ayan\n",
      "Processing Record 43 of Set 10: puerto colombia\n",
      "Processing Record 44 of Set 10: te anau\n",
      "Processing Record 45 of Set 10: lusambo\n",
      "Processing Record 46 of Set 10: andenes\n",
      "Processing Record 47 of Set 10: bara\n",
      "City not found. Skipping...\n",
      "Processing Record 48 of Set 10: progreso\n",
      "Processing Record 49 of Set 10: polyarnyy\n",
      "Processing Record 50 of Set 10: iracoubo\n",
      "Processing Record 1 of Set 11: half moon bay\n",
      "Processing Record 2 of Set 11: sawakin\n",
      "Processing Record 3 of Set 11: bulalacao\n",
      "City not found. Skipping...\n",
      "City not found. Skipping...\n",
      "Processing Record 4 of Set 11: nshamba\n",
      "Processing Record 5 of Set 11: acaponeta\n",
      "City not found. Skipping...\n",
      "Processing Record 6 of Set 11: fairbanks\n",
      "Processing Record 7 of Set 11: singapore\n",
      "City not found. Skipping...\n",
      "Processing Record 8 of Set 11: tsabong\n",
      "Processing Record 9 of Set 11: east moline\n",
      "Processing Record 10 of Set 11: zyryanskoye\n",
      "Processing Record 11 of Set 11: severo-yeniseyskiy\n",
      "Processing Record 12 of Set 11: corrales\n",
      "Processing Record 13 of Set 11: vostok\n",
      "Processing Record 14 of Set 11: fernie\n",
      "Processing Record 15 of Set 11: itarema\n",
      "Processing Record 16 of Set 11: jinchang\n",
      "Processing Record 17 of Set 11: mangrol\n",
      "Processing Record 18 of Set 11: aleksandrov gay\n",
      "Processing Record 19 of Set 11: kushima\n",
      "Processing Record 20 of Set 11: hornepayne\n",
      "Processing Record 21 of Set 11: salalah\n",
      "Processing Record 22 of Set 11: paulista\n",
      "Processing Record 23 of Set 11: amuntai\n",
      "Processing Record 24 of Set 11: corinto\n",
      "Processing Record 25 of Set 11: fuerte olimpo\n",
      "Processing Record 26 of Set 11: guerrero negro\n",
      "Processing Record 27 of Set 11: nishihara\n",
      "Processing Record 28 of Set 11: nogliki\n",
      "Processing Record 29 of Set 11: ambanja\n",
      "Processing Record 30 of Set 11: port blair\n",
      "City not found. Skipping...\n",
      "Processing Record 31 of Set 11: chingirlau\n",
      "Processing Record 32 of Set 11: pipar\n",
      "Processing Record 33 of Set 11: u thong\n",
      "Processing Record 34 of Set 11: arambagh\n",
      "Processing Record 35 of Set 11: ndele\n",
      "Processing Record 36 of Set 11: igrim\n",
      "Processing Record 37 of Set 11: omachi\n",
      "Processing Record 38 of Set 11: qasigiannguit\n",
      "Processing Record 39 of Set 11: tsiroanomandidy\n",
      "Processing Record 40 of Set 11: fairlie\n",
      "Processing Record 41 of Set 11: sao gabriel da cachoeira\n",
      "City not found. Skipping...\n",
      "Processing Record 42 of Set 11: vila velha\n",
      "Processing Record 43 of Set 11: antsohihy\n",
      "Processing Record 44 of Set 11: kedrovyy\n",
      "Processing Record 45 of Set 11: yichun\n",
      "Processing Record 46 of Set 11: tongliao\n",
      "City not found. Skipping...\n",
      "Processing Record 47 of Set 11: saint george\n",
      "Processing Record 48 of Set 11: sundsvall\n",
      "Processing Record 49 of Set 11: netrakona\n",
      "Processing Record 50 of Set 11: kachug\n",
      "Processing Record 1 of Set 12: portland\n",
      "Processing Record 2 of Set 12: kaduqli\n",
      "City not found. Skipping...\n",
      "Processing Record 3 of Set 12: samara\n",
      "Processing Record 4 of Set 12: providencia\n",
      "Processing Record 5 of Set 12: douglas\n",
      "City not found. Skipping...\n",
      "Processing Record 6 of Set 12: nigran\n",
      "City not found. Skipping...\n",
      "City not found. Skipping...\n",
      "Processing Record 7 of Set 12: san antonio\n",
      "Processing Record 8 of Set 12: burns lake\n",
      "Processing Record 9 of Set 12: blagoyevo\n",
      "Processing Record 10 of Set 12: shenjiamen\n",
      "Processing Record 11 of Set 12: soyo\n",
      "Processing Record 12 of Set 12: nara\n",
      "Processing Record 13 of Set 12: ramhormoz\n",
      "Processing Record 14 of Set 12: kavaratti\n",
      "City not found. Skipping...\n",
      "Processing Record 15 of Set 12: lafiagi\n",
      "-----------------------------\n",
      "Data Retrieval Complete\n",
      "-----------------------------\n"
     ]
    }
   ],
   "source": [
    "# create lists\n",
    "city_list = []\n",
    "lat_list = []\n",
    "lng_list = []\n",
    "max_temp_list = []\n",
    "humidity_list = []\n",
    "cloudiness_list = []\n",
    "wind_speed_list = []\n",
    "country_list = []\n",
    "date_list = []\n",
    "record_counter = 0\n",
    "set_counter = 1\n",
    "\n",
    "print(\"Beginning Data Retrieval\")\n",
    "print(\"-----------------------------\")\n",
    "\n",
    "# set base url\n",
    "base_url=f\"http://api.openweathermap.org/data/2.5/weather?appid={weather_api_key}&units=metric&q=\"\n",
    "\n",
    "for city in cities:\n",
    "    url = base_url + city\n",
    "    response = requests.get(url).json()\n",
    "    try:\n",
    "        city_list.append(response[\"name\"])\n",
    "        lat_list.append(response[\"coord\"][\"lat\"])\n",
    "        lng_list.append(response[\"coord\"][\"lon\"])\n",
    "        max_temp_list.append(response[\"main\"][\"temp_max\"])\n",
    "        humidity_list.append(response[\"main\"][\"humidity\"])\n",
    "        cloudiness_list.append(response[\"clouds\"][\"all\"])\n",
    "        wind_speed_list.append(response[\"wind\"][\"speed\"])\n",
    "        country_list.append(response[\"sys\"][\"country\"])\n",
    "        date_list.append(response[\"dt\"])\n",
    "        if record_counter == 50:\n",
    "            record_counter = 1\n",
    "            set_counter +=1\n",
    "        else:\n",
    "            record_counter +=1   \n",
    "        print(f\"Processing Record {record_counter} of Set {set_counter}: {city}\")\n",
    "    except KeyError:\n",
    "        print(\"City not found. Skipping...\")    \n",
    "print(\"-----------------------------\")\n",
    "print(\"Data Retrieval Complete\")      \n",
    "print(\"-----------------------------\")"
   ]
  },
  {
   "cell_type": "markdown",
   "metadata": {},
   "source": [
    "### Convert Raw Data to DataFrame\n",
    "* Export the city data into a .csv.\n",
    "* Display the DataFrame"
   ]
  },
  {
   "cell_type": "code",
   "execution_count": 21,
   "metadata": {},
   "outputs": [
    {
     "data": {
      "text/html": [
       "<div>\n",
       "<style scoped>\n",
       "    .dataframe tbody tr th:only-of-type {\n",
       "        vertical-align: middle;\n",
       "    }\n",
       "\n",
       "    .dataframe tbody tr th {\n",
       "        vertical-align: top;\n",
       "    }\n",
       "\n",
       "    .dataframe thead th {\n",
       "        text-align: right;\n",
       "    }\n",
       "</style>\n",
       "<table border=\"1\" class=\"dataframe\">\n",
       "  <thead>\n",
       "    <tr style=\"text-align: right;\">\n",
       "      <th></th>\n",
       "      <th>City</th>\n",
       "      <th>Lat</th>\n",
       "      <th>Lng</th>\n",
       "      <th>Max Temp</th>\n",
       "      <th>Humidity</th>\n",
       "      <th>Cloudiness</th>\n",
       "      <th>Wind Speed</th>\n",
       "      <th>Country</th>\n",
       "      <th>Date</th>\n",
       "    </tr>\n",
       "  </thead>\n",
       "  <tbody>\n",
       "    <tr>\n",
       "      <th>0</th>\n",
       "      <td>Saint Paul Harbor</td>\n",
       "      <td>57.7900</td>\n",
       "      <td>-152.4072</td>\n",
       "      <td>-2.00</td>\n",
       "      <td>64</td>\n",
       "      <td>1</td>\n",
       "      <td>1.54</td>\n",
       "      <td>US</td>\n",
       "      <td>1612159502</td>\n",
       "    </tr>\n",
       "    <tr>\n",
       "      <th>1</th>\n",
       "      <td>Ushuaia</td>\n",
       "      <td>-54.8000</td>\n",
       "      <td>-68.3000</td>\n",
       "      <td>10.00</td>\n",
       "      <td>76</td>\n",
       "      <td>75</td>\n",
       "      <td>6.69</td>\n",
       "      <td>AR</td>\n",
       "      <td>1612159429</td>\n",
       "    </tr>\n",
       "    <tr>\n",
       "      <th>2</th>\n",
       "      <td>San Juan</td>\n",
       "      <td>-31.5375</td>\n",
       "      <td>-68.5364</td>\n",
       "      <td>14.66</td>\n",
       "      <td>64</td>\n",
       "      <td>60</td>\n",
       "      <td>5.85</td>\n",
       "      <td>AR</td>\n",
       "      <td>1612159502</td>\n",
       "    </tr>\n",
       "    <tr>\n",
       "      <th>3</th>\n",
       "      <td>Hengshui</td>\n",
       "      <td>37.7322</td>\n",
       "      <td>115.7011</td>\n",
       "      <td>6.25</td>\n",
       "      <td>43</td>\n",
       "      <td>0</td>\n",
       "      <td>5.21</td>\n",
       "      <td>CN</td>\n",
       "      <td>1612159503</td>\n",
       "    </tr>\n",
       "    <tr>\n",
       "      <th>4</th>\n",
       "      <td>Bredasdorp</td>\n",
       "      <td>-34.5322</td>\n",
       "      <td>20.0403</td>\n",
       "      <td>16.67</td>\n",
       "      <td>71</td>\n",
       "      <td>97</td>\n",
       "      <td>1.34</td>\n",
       "      <td>ZA</td>\n",
       "      <td>1612159504</td>\n",
       "    </tr>\n",
       "  </tbody>\n",
       "</table>\n",
       "</div>"
      ],
      "text/plain": [
       "                City      Lat       Lng  Max Temp  Humidity  Cloudiness  \\\n",
       "0  Saint Paul Harbor  57.7900 -152.4072     -2.00        64           1   \n",
       "1            Ushuaia -54.8000  -68.3000     10.00        76          75   \n",
       "2           San Juan -31.5375  -68.5364     14.66        64          60   \n",
       "3           Hengshui  37.7322  115.7011      6.25        43           0   \n",
       "4         Bredasdorp -34.5322   20.0403     16.67        71          97   \n",
       "\n",
       "   Wind Speed Country        Date  \n",
       "0        1.54      US  1612159502  \n",
       "1        6.69      AR  1612159429  \n",
       "2        5.85      AR  1612159502  \n",
       "3        5.21      CN  1612159503  \n",
       "4        1.34      ZA  1612159504  "
      ]
     },
     "execution_count": 21,
     "metadata": {},
     "output_type": "execute_result"
    }
   ],
   "source": [
    "# create new df\n",
    "cities_df = pd.DataFrame({\n",
    "    \"City\": city_list,\n",
    "    \"Lat\": lat_list,\n",
    "    \"Lng\": lng_list,\n",
    "    \"Max Temp\": max_temp_list,\n",
    "    \"Humidity\": humidity_list,\n",
    "    \"Cloudiness\": cloudiness_list,\n",
    "    \"Wind Speed\": wind_speed_list,\n",
    "    \"Country\": country_list,\n",
    "    \"Date\": date_list})\n",
    "\n",
    "# export new data into a .csv file\n",
    "cities_df.to_csv(\"../output_data/cities.csv\", index=None, header=True)\n",
    "\n",
    "# display the new dataframe\n",
    "cities_df.head()"
   ]
  },
  {
   "cell_type": "markdown",
   "metadata": {},
   "source": [
    "## Inspect the data and remove the cities where the humidity > 100%."
   ]
  },
  {
   "cell_type": "code",
   "execution_count": 22,
   "metadata": {},
   "outputs": [
    {
     "data": {
      "text/html": [
       "<div>\n",
       "<style scoped>\n",
       "    .dataframe tbody tr th:only-of-type {\n",
       "        vertical-align: middle;\n",
       "    }\n",
       "\n",
       "    .dataframe tbody tr th {\n",
       "        vertical-align: top;\n",
       "    }\n",
       "\n",
       "    .dataframe thead th {\n",
       "        text-align: right;\n",
       "    }\n",
       "</style>\n",
       "<table border=\"1\" class=\"dataframe\">\n",
       "  <thead>\n",
       "    <tr style=\"text-align: right;\">\n",
       "      <th></th>\n",
       "      <th>Lat</th>\n",
       "      <th>Lng</th>\n",
       "      <th>Max Temp</th>\n",
       "      <th>Humidity</th>\n",
       "      <th>Cloudiness</th>\n",
       "      <th>Wind Speed</th>\n",
       "      <th>Date</th>\n",
       "    </tr>\n",
       "  </thead>\n",
       "  <tbody>\n",
       "    <tr>\n",
       "      <th>count</th>\n",
       "      <td>565.000000</td>\n",
       "      <td>565.000000</td>\n",
       "      <td>565.000000</td>\n",
       "      <td>565.000000</td>\n",
       "      <td>565.000000</td>\n",
       "      <td>565.000000</td>\n",
       "      <td>5.650000e+02</td>\n",
       "    </tr>\n",
       "    <tr>\n",
       "      <th>mean</th>\n",
       "      <td>20.333224</td>\n",
       "      <td>13.352228</td>\n",
       "      <td>10.057186</td>\n",
       "      <td>74.532743</td>\n",
       "      <td>57.182301</td>\n",
       "      <td>3.729416</td>\n",
       "      <td>1.612160e+09</td>\n",
       "    </tr>\n",
       "    <tr>\n",
       "      <th>std</th>\n",
       "      <td>33.329476</td>\n",
       "      <td>90.137926</td>\n",
       "      <td>17.741457</td>\n",
       "      <td>19.564525</td>\n",
       "      <td>38.880072</td>\n",
       "      <td>2.870666</td>\n",
       "      <td>1.055611e+02</td>\n",
       "    </tr>\n",
       "    <tr>\n",
       "      <th>min</th>\n",
       "      <td>-54.800000</td>\n",
       "      <td>-175.200000</td>\n",
       "      <td>-45.810000</td>\n",
       "      <td>11.000000</td>\n",
       "      <td>0.000000</td>\n",
       "      <td>0.250000</td>\n",
       "      <td>1.612159e+09</td>\n",
       "    </tr>\n",
       "    <tr>\n",
       "      <th>25%</th>\n",
       "      <td>-7.940800</td>\n",
       "      <td>-63.756800</td>\n",
       "      <td>-1.670000</td>\n",
       "      <td>66.000000</td>\n",
       "      <td>20.000000</td>\n",
       "      <td>1.560000</td>\n",
       "      <td>1.612160e+09</td>\n",
       "    </tr>\n",
       "    <tr>\n",
       "      <th>50%</th>\n",
       "      <td>25.021300</td>\n",
       "      <td>16.588700</td>\n",
       "      <td>16.000000</td>\n",
       "      <td>78.000000</td>\n",
       "      <td>75.000000</td>\n",
       "      <td>3.060000</td>\n",
       "      <td>1.612160e+09</td>\n",
       "    </tr>\n",
       "    <tr>\n",
       "      <th>75%</th>\n",
       "      <td>47.666600</td>\n",
       "      <td>88.166700</td>\n",
       "      <td>24.000000</td>\n",
       "      <td>88.000000</td>\n",
       "      <td>93.000000</td>\n",
       "      <td>5.140000</td>\n",
       "      <td>1.612160e+09</td>\n",
       "    </tr>\n",
       "    <tr>\n",
       "      <th>max</th>\n",
       "      <td>78.218600</td>\n",
       "      <td>179.316700</td>\n",
       "      <td>41.000000</td>\n",
       "      <td>100.000000</td>\n",
       "      <td>100.000000</td>\n",
       "      <td>23.000000</td>\n",
       "      <td>1.612160e+09</td>\n",
       "    </tr>\n",
       "  </tbody>\n",
       "</table>\n",
       "</div>"
      ],
      "text/plain": [
       "              Lat         Lng    Max Temp    Humidity  Cloudiness  Wind Speed  \\\n",
       "count  565.000000  565.000000  565.000000  565.000000  565.000000  565.000000   \n",
       "mean    20.333224   13.352228   10.057186   74.532743   57.182301    3.729416   \n",
       "std     33.329476   90.137926   17.741457   19.564525   38.880072    2.870666   \n",
       "min    -54.800000 -175.200000  -45.810000   11.000000    0.000000    0.250000   \n",
       "25%     -7.940800  -63.756800   -1.670000   66.000000   20.000000    1.560000   \n",
       "50%     25.021300   16.588700   16.000000   78.000000   75.000000    3.060000   \n",
       "75%     47.666600   88.166700   24.000000   88.000000   93.000000    5.140000   \n",
       "max     78.218600  179.316700   41.000000  100.000000  100.000000   23.000000   \n",
       "\n",
       "               Date  \n",
       "count  5.650000e+02  \n",
       "mean   1.612160e+09  \n",
       "std    1.055611e+02  \n",
       "min    1.612159e+09  \n",
       "25%    1.612160e+09  \n",
       "50%    1.612160e+09  \n",
       "75%    1.612160e+09  \n",
       "max    1.612160e+09  "
      ]
     },
     "execution_count": 22,
     "metadata": {},
     "output_type": "execute_result"
    }
   ],
   "source": [
    "cities_df.describe()"
   ]
  },
  {
   "cell_type": "code",
   "execution_count": 19,
   "metadata": {},
   "outputs": [],
   "source": [
    "#  Get the indices of cities that have humidity over 100%.\n",
    "# for index, row in cities_df.itterows():\n",
    "#     humid_city = row([\"Humidity\"] > 99)\n",
    "    \n",
    "    \n",
    "#     print(f\"{humid_city} at index {index} has humidity over 100%\")\n",
    "    "
   ]
  },
  {
   "cell_type": "code",
   "execution_count": 19,
   "metadata": {},
   "outputs": [
    {
     "data": {
      "text/html": [
       "<div>\n",
       "<style scoped>\n",
       "    .dataframe tbody tr th:only-of-type {\n",
       "        vertical-align: middle;\n",
       "    }\n",
       "\n",
       "    .dataframe tbody tr th {\n",
       "        vertical-align: top;\n",
       "    }\n",
       "\n",
       "    .dataframe thead th {\n",
       "        text-align: right;\n",
       "    }\n",
       "</style>\n",
       "<table border=\"1\" class=\"dataframe\">\n",
       "  <thead>\n",
       "    <tr style=\"text-align: right;\">\n",
       "      <th></th>\n",
       "      <th>City</th>\n",
       "      <th>Lat</th>\n",
       "      <th>Lng</th>\n",
       "      <th>Max Temp</th>\n",
       "      <th>Humidity</th>\n",
       "      <th>Cloudiness</th>\n",
       "      <th>Wind Speed</th>\n",
       "      <th>Country</th>\n",
       "      <th>Date</th>\n",
       "    </tr>\n",
       "  </thead>\n",
       "  <tbody>\n",
       "    <tr>\n",
       "      <td>0</td>\n",
       "      <td>butaritari</td>\n",
       "      <td>3.07</td>\n",
       "      <td>172.79</td>\n",
       "      <td>83.32</td>\n",
       "      <td>74</td>\n",
       "      <td>84</td>\n",
       "      <td>10.42</td>\n",
       "      <td>KI</td>\n",
       "      <td>1593605283</td>\n",
       "    </tr>\n",
       "    <tr>\n",
       "      <td>1</td>\n",
       "      <td>yerbogachen</td>\n",
       "      <td>61.28</td>\n",
       "      <td>108.01</td>\n",
       "      <td>79.52</td>\n",
       "      <td>58</td>\n",
       "      <td>20</td>\n",
       "      <td>7.70</td>\n",
       "      <td>RU</td>\n",
       "      <td>1593605121</td>\n",
       "    </tr>\n",
       "    <tr>\n",
       "      <td>2</td>\n",
       "      <td>cape town</td>\n",
       "      <td>-33.93</td>\n",
       "      <td>18.42</td>\n",
       "      <td>73.00</td>\n",
       "      <td>77</td>\n",
       "      <td>27</td>\n",
       "      <td>4.70</td>\n",
       "      <td>ZA</td>\n",
       "      <td>1593605039</td>\n",
       "    </tr>\n",
       "    <tr>\n",
       "      <td>3</td>\n",
       "      <td>touba</td>\n",
       "      <td>8.28</td>\n",
       "      <td>-7.68</td>\n",
       "      <td>79.97</td>\n",
       "      <td>75</td>\n",
       "      <td>82</td>\n",
       "      <td>3.58</td>\n",
       "      <td>CI</td>\n",
       "      <td>1593605284</td>\n",
       "    </tr>\n",
       "    <tr>\n",
       "      <td>4</td>\n",
       "      <td>jamestown</td>\n",
       "      <td>42.10</td>\n",
       "      <td>-79.24</td>\n",
       "      <td>64.00</td>\n",
       "      <td>88</td>\n",
       "      <td>1</td>\n",
       "      <td>6.93</td>\n",
       "      <td>US</td>\n",
       "      <td>1593605284</td>\n",
       "    </tr>\n",
       "  </tbody>\n",
       "</table>\n",
       "</div>"
      ],
      "text/plain": [
       "          City    Lat     Lng  Max Temp  Humidity  Cloudiness  Wind Speed  \\\n",
       "0   butaritari   3.07  172.79     83.32        74          84       10.42   \n",
       "1  yerbogachen  61.28  108.01     79.52        58          20        7.70   \n",
       "2    cape town -33.93   18.42     73.00        77          27        4.70   \n",
       "3        touba   8.28   -7.68     79.97        75          82        3.58   \n",
       "4    jamestown  42.10  -79.24     64.00        88           1        6.93   \n",
       "\n",
       "  Country        Date  \n",
       "0      KI  1593605283  \n",
       "1      RU  1593605121  \n",
       "2      ZA  1593605039  \n",
       "3      CI  1593605284  \n",
       "4      US  1593605284  "
      ]
     },
     "execution_count": 19,
     "metadata": {},
     "output_type": "execute_result"
    }
   ],
   "source": [
    "# Make a new DataFrame equal to the city data to drop all humidity outliers by index.\n",
    "# Passing \"inplace=False\" will make a copy of the city_data DataFrame, which we call \"clean_city_data\".\n"
   ]
  },
  {
   "cell_type": "code",
   "execution_count": null,
   "metadata": {},
   "outputs": [],
   "source": [
    "\n"
   ]
  },
  {
   "cell_type": "markdown",
   "metadata": {},
   "source": [
    "## Plotting the Data\n",
    "* Use proper labeling of the plots using plot titles (including date of analysis) and axes labels.\n",
    "* Save the plotted figures as .pngs."
   ]
  },
  {
   "cell_type": "markdown",
   "metadata": {},
   "source": [
    "## Latitude vs. Temperature Plot"
   ]
  },
  {
   "cell_type": "code",
   "execution_count": 23,
   "metadata": {},
   "outputs": [
    {
     "data": {
      "image/png": "[encoded data removed]",
      "text/plain": [
       "<Figure size 432x288 with 1 Axes>"
      ]
     },
     "metadata": {
      "needs_background": "light"
     },
     "output_type": "display_data"
    }
   ],
   "source": [
    "# create a scatter plot to show relationship between lattitude and max temperature\n",
    "plt.scatter(cities_df[\"Lat\"], cities_df[\"Max Temp\"], marker=\"o\")\n",
    "plt.title(\"City Latitude vs. Max Temperature\")\n",
    "plt.xlabel(\"Latitude\")\n",
    "plt.ylabel(\"Max Temperature\")\n",
    "\n",
    "plt.show()"
   ]
  },
  {
   "cell_type": "markdown",
   "metadata": {},
   "source": [
    "## Latitude vs. Humidity Plot"
   ]
  },
  {
   "cell_type": "code",
   "execution_count": 24,
   "metadata": {},
   "outputs": [
    {
     "data": {
      "image/png": "[encoded data removed]",
      "text/plain": [
       "<Figure size 432x288 with 1 Axes>"
      ]
     },
     "metadata": {
      "needs_background": "light"
     },
     "output_type": "display_data"
    }
   ],
   "source": [
    "# create a scatter plot to show relationship between lattitude and humidity\n",
    "plt.scatter(cities_df[\"Lat\"], cities_df[\"Humidity\"], marker=\"o\")\n",
    "plt.title(\"City Latitude vs. Humidity\")\n",
    "plt.xlabel(\"Latitude\")\n",
    "plt.ylabel(\"Humidity (%)\")\n",
    "\n",
    "plt.show()"
   ]
  },
  {
   "cell_type": "markdown",
   "metadata": {},
   "source": [
    "## Latitude vs. Cloudiness Plot"
   ]
  },
  {
   "cell_type": "code",
   "execution_count": 25,
   "metadata": {},
   "outputs": [
    {
     "data": {
      "image/png": "[encoded data removed]",
      "text/plain": [
       "<Figure size 432x288 with 1 Axes>"
      ]
     },
     "metadata": {
      "needs_background": "light"
     },
     "output_type": "display_data"
    }
   ],
   "source": [
    "# create a scatter plot to show relationship between lattitude and cloudiness\n",
    "plt.scatter(cities_df[\"Lat\"], cities_df[\"Cloudiness\"], marker=\"o\")\n",
    "plt.title(\"City Latitude vs. Cloudiness\")\n",
    "plt.xlabel(\"Latitude\")\n",
    "plt.ylabel(\"Cloudinedd (%)\")\n",
    "\n",
    "plt.show()"
   ]
  },
  {
   "cell_type": "markdown",
   "metadata": {},
   "source": [
    "## Latitude vs. Wind Speed Plot"
   ]
  },
  {
   "cell_type": "code",
   "execution_count": 26,
   "metadata": {},
   "outputs": [
    {
     "data": {
      "image/png": "[encoded data removed]",
      "text/plain": [
       "<Figure size 432x288 with 1 Axes>"
      ]
     },
     "metadata": {
      "needs_background": "light"
     },
     "output_type": "display_data"
    }
   ],
   "source": [
    "# create a scatter plot to show relationship between lattitude and wind speed\n",
    "plt.scatter(cities_df[\"Lat\"], cities_df[\"Wind Speed\"], marker=\"o\")\n",
    "plt.title(\"City Latitude vs. Wind Speed\")\n",
    "plt.xlabel(\"Latitude\")\n",
    "plt.ylabel(\"Wind Speed (mph)\")\n",
    "\n",
    "plt.show()"
   ]
  },
  {
   "cell_type": "markdown",
   "metadata": {},
   "source": [
    "## Linear Regression"
   ]
  },
  {
   "cell_type": "code",
   "execution_count": 24,
   "metadata": {},
   "outputs": [],
   "source": []
  },
  {
   "cell_type": "markdown",
   "metadata": {},
   "source": [
    "####  Northern Hemisphere - Max Temp vs. Latitude Linear Regression"
   ]
  },
  {
   "cell_type": "code",
   "execution_count": 25,
   "metadata": {},
   "outputs": [
    {
     "name": "stdout",
     "output_type": "stream",
     "text": [
      "The r-value is: 0.46937863826630627\n"
     ]
    },
    {
     "data": {
      "image/png": "[encoded data removed]",
      "text/plain": [
       "<Figure size 432x288 with 1 Axes>"
      ]
     },
     "metadata": {
      "needs_background": "light"
     },
     "output_type": "display_data"
    }
   ],
   "source": []
  },
  {
   "cell_type": "markdown",
   "metadata": {},
   "source": [
    "####  Southern Hemisphere - Max Temp vs. Latitude Linear Regression"
   ]
  },
  {
   "cell_type": "code",
   "execution_count": 26,
   "metadata": {},
   "outputs": [
    {
     "name": "stdout",
     "output_type": "stream",
     "text": [
      "The r-value is: 0.6082708688906918\n"
     ]
    },
    {
     "data": {
      "image/png": "[encoded data removed]",
      "text/plain": [
       "<Figure size 432x288 with 1 Axes>"
      ]
     },
     "metadata": {
      "needs_background": "light"
     },
     "output_type": "display_data"
    }
   ],
   "source": []
  },
  {
   "cell_type": "markdown",
   "metadata": {},
   "source": [
    "####  Northern Hemisphere - Humidity (%) vs. Latitude Linear Regression"
   ]
  },
  {
   "cell_type": "code",
   "execution_count": 27,
   "metadata": {},
   "outputs": [
    {
     "name": "stdout",
     "output_type": "stream",
     "text": [
      "The r-value is: 0.000543987878808455\n"
     ]
    },
    {
     "data": {
      "image/png": "[encoded data removed]",
      "text/plain": [
       "<Figure size 432x288 with 1 Axes>"
      ]
     },
     "metadata": {
      "needs_background": "light"
     },
     "output_type": "display_data"
    }
   ],
   "source": []
  },
  {
   "cell_type": "markdown",
   "metadata": {},
   "source": [
    "####  Southern Hemisphere - Humidity (%) vs. Latitude Linear Regression"
   ]
  },
  {
   "cell_type": "code",
   "execution_count": 28,
   "metadata": {},
   "outputs": [
    {
     "name": "stdout",
     "output_type": "stream",
     "text": [
      "The r-value is: 0.014985174297345524\n"
     ]
    },
    {
     "data": {
      "image/png": "[encoded data removed]",
      "text/plain": [
       "<Figure size 432x288 with 1 Axes>"
      ]
     },
     "metadata": {
      "needs_background": "light"
     },
     "output_type": "display_data"
    }
   ],
   "source": []
  },
  {
   "cell_type": "markdown",
   "metadata": {},
   "source": [
    "####  Northern Hemisphere - Cloudiness (%) vs. Latitude Linear Regression"
   ]
  },
  {
   "cell_type": "code",
   "execution_count": 29,
   "metadata": {},
   "outputs": [
    {
     "name": "stdout",
     "output_type": "stream",
     "text": [
      "The r-value is: 0.0020898727664228514\n"
     ]
    },
    {
     "data": {
      "image/png": "[encoded data removed]",
      "text/plain": [
       "<Figure size 432x288 with 1 Axes>"
      ]
     },
     "metadata": {
      "needs_background": "light"
     },
     "output_type": "display_data"
    }
   ],
   "source": []
  },
  {
   "cell_type": "markdown",
   "metadata": {},
   "source": [
    "####  Southern Hemisphere - Cloudiness (%) vs. Latitude Linear Regression"
   ]
  },
  {
   "cell_type": "code",
   "execution_count": 30,
   "metadata": {},
   "outputs": [
    {
     "name": "stdout",
     "output_type": "stream",
     "text": [
      "The r-value is: 0.0035263772085582894\n"
     ]
    },
    {
     "data": {
      "image/png": "[encoded data removed]",
      "text/plain": [
       "<Figure size 432x288 with 1 Axes>"
      ]
     },
     "metadata": {
      "needs_background": "light"
     },
     "output_type": "display_data"
    }
   ],
   "source": []
  },
  {
   "cell_type": "markdown",
   "metadata": {},
   "source": [
    "####  Northern Hemisphere - Wind Speed (mph) vs. Latitude Linear Regression"
   ]
  },
  {
   "cell_type": "code",
   "execution_count": 31,
   "metadata": {},
   "outputs": [
    {
     "name": "stdout",
     "output_type": "stream",
     "text": [
      "The r-value is: 0.04019723576144484\n"
     ]
    },
    {
     "data": {
      "image/png": "[encoded data removed]",
      "text/plain": [
       "<Figure size 432x288 with 1 Axes>"
      ]
     },
     "metadata": {
      "needs_background": "light"
     },
     "output_type": "display_data"
    }
   ],
   "source": []
  },
  {
   "cell_type": "markdown",
   "metadata": {},
   "source": [
    "####  Southern Hemisphere - Wind Speed (mph) vs. Latitude Linear Regression"
   ]
  },
  {
   "cell_type": "code",
   "execution_count": 32,
   "metadata": {},
   "outputs": [
    {
     "name": "stdout",
     "output_type": "stream",
     "text": [
      "The r-value is: 0.017128274759839232\n"
     ]
    },
    {
     "data": {
      "image/png": "[encoded data removed]",
      "text/plain": [
       "<Figure size 432x288 with 1 Axes>"
      ]
     },
     "metadata": {
      "needs_background": "light"
     },
     "output_type": "display_data"
    }
   ],
   "source": []
  },
  {
   "cell_type": "code",
   "execution_count": null,
   "metadata": {},
   "outputs": [],
   "source": []
  }
 ],
 "metadata": {
  "anaconda-cloud": {},
  "kernel_info": {
   "name": "python3"
  },
  "kernelspec": {
   "display_name": "Python 3",
   "language": "python",
   "name": "python3"
  },
  "language_info": {
   "codemirror_mode": {
    "name": "ipython",
    "version": 3
   },
   "file_extension": ".py",
   "mimetype": "text/x-python",
   "name": "python",
   "nbconvert_exporter": "python",
   "pygments_lexer": "ipython3",
   "version": "3.6.10"
  },
  "latex_envs": {
   "LaTeX_envs_menu_present": true,
   "autoclose": false,
   "autocomplete": true,
   "bibliofile": "biblio.bib",
   "cite_by": "apalike",
   "current_citInitial": 1,
   "eqLabelWithNumbers": true,
   "eqNumInitial": 1,
   "hotkeys": {
    "equation": "Ctrl-E",
    "itemize": "Ctrl-I"
   },
   "labels_anchors": false,
   "latex_user_defs": false,
   "report_style_numbering": false,
   "user_envs_cfg": false
  },
  "nteract": {
   "version": "0.12.3"
  }
 },
 "nbformat": 4,
 "nbformat_minor": 2
}
